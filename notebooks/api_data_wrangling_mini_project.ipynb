{
 "cells": [
  {
   "cell_type": "markdown",
   "metadata": {},
   "source": [
    "This exercise will require you to pull some data from the Qunadl API. Qaundl is currently the most widely used aggregator of financial market data."
   ]
  },
  {
   "cell_type": "markdown",
   "metadata": {},
   "source": [
    "As a first step, you will need to register a free account on the http://www.quandl.com website."
   ]
  },
  {
   "cell_type": "markdown",
   "metadata": {},
   "source": [
    "After you register, you will be provided with a unique API key, that you should store:"
   ]
  },
  {
   "cell_type": "code",
   "execution_count": 12,
   "metadata": {},
   "outputs": [],
   "source": [
    "# Store the API key as a string - according to PEP8, constants are always named in all upper case\n",
    "API_KEY = ''"
   ]
  },
  {
   "cell_type": "markdown",
   "metadata": {},
   "source": [
    "Qaundl has a large number of data sources, but, unfortunately, most of them require a Premium subscription. Still, there are also a good number of free datasets."
   ]
  },
  {
   "cell_type": "markdown",
   "metadata": {},
   "source": [
    "For this mini project, we will focus on equities data from the Frankfurt Stock Exhange (FSE), which is available for free. We'll try and analyze the stock prices of a company called Carl Zeiss Meditec, which manufactures tools for eye examinations, as well as medical lasers for laser eye surgery: https://www.zeiss.com/meditec/int/home.html. The company is listed under the stock ticker AFX_X."
   ]
  },
  {
   "cell_type": "markdown",
   "metadata": {},
   "source": [
    "You can find the detailed Quandl API instructions here: https://docs.quandl.com/docs/time-series"
   ]
  },
  {
   "cell_type": "markdown",
   "metadata": {},
   "source": [
    "While there is a dedicated Python package for connecting to the Quandl API, we would prefer that you use the *requests* package, which can be easily downloaded using *pip* or *conda*. You can find the documentation for the package here: http://docs.python-requests.org/en/master/ "
   ]
  },
  {
   "cell_type": "markdown",
   "metadata": {},
   "source": [
    "Finally, apart from the *requests* package, you are encouraged to not use any third party Python packages, such as *pandas*, and instead focus on what's available in the Python Standard Library (the *collections* module might come in handy: https://pymotw.com/3/collections/).\n",
    "Also, since you won't have access to DataFrames, you are encouraged to us Python's native data structures - preferably dictionaries, though some questions can also be answered using lists.\n",
    "You can read more on these data structures here: https://docs.python.org/3/tutorial/datastructures.html"
   ]
  },
  {
   "cell_type": "markdown",
   "metadata": {},
   "source": [
    "Keep in mind that the JSON responses you will be getting from the API map almost one-to-one to Python's dictionaries. Unfortunately, they can be very nested, so make sure you read up on indexing dictionaries in the documentation provided above."
   ]
  },
  {
   "cell_type": "code",
   "execution_count": 13,
   "metadata": {},
   "outputs": [],
   "source": [
    "# First, import the relevant modules\n",
    "import requests\n",
    "import collections\n"
   ]
  },
  {
   "cell_type": "code",
   "execution_count": 14,
   "metadata": {},
   "outputs": [],
   "source": [
    "# Now, call the Quandl API and pull out a small sample of the data (only one day) to get a glimpse\n",
    "# into the JSON structure that will be returned\n",
    "\n",
    "DATABASE = 'FSE'\n",
    "DATASET = 'AFX_X'\n",
    "RETURN_TYPE = 'json'\n",
    "\n",
    "data = requests.get(f'https://www.quandl.com/api/v3/datasets/{DATABASE}/{DATASET}.{RETURN_TYPE}?start_date=2000-06-06&end_date=2000-06-07&api_key={API_KEY}')\n",
    "\n"
   ]
  },
  {
   "cell_type": "code",
   "execution_count": 15,
   "metadata": {},
   "outputs": [
    {
     "data": {
      "text/plain": [
       "{'dataset': {'id': 10095370,\n",
       "  'dataset_code': 'AFX_X',\n",
       "  'database_code': 'FSE',\n",
       "  'name': 'Carl Zeiss Meditec (AFX_X)',\n",
       "  'description': 'Stock Prices for Carl Zeiss Meditec (2020-11-02) from the Frankfurt Stock Exchange.<br><br>Trading System: Xetra<br><br>ISIN: DE0005313704',\n",
       "  'refreshed_at': '2020-12-01T14:48:09.907Z',\n",
       "  'newest_available_date': '2020-12-01',\n",
       "  'oldest_available_date': '2000-06-07',\n",
       "  'column_names': ['Date',\n",
       "   'Open',\n",
       "   'High',\n",
       "   'Low',\n",
       "   'Close',\n",
       "   'Change',\n",
       "   'Traded Volume',\n",
       "   'Turnover',\n",
       "   'Last Price of the Day',\n",
       "   'Daily Traded Units',\n",
       "   'Daily Turnover'],\n",
       "  'frequency': 'daily',\n",
       "  'type': 'Time Series',\n",
       "  'premium': False,\n",
       "  'limit': None,\n",
       "  'transform': None,\n",
       "  'column_index': None,\n",
       "  'start_date': '2000-06-07',\n",
       "  'end_date': '2000-06-07',\n",
       "  'data': [['2000-06-07',\n",
       "    None,\n",
       "    None,\n",
       "    None,\n",
       "    38.0,\n",
       "    None,\n",
       "    0.0,\n",
       "    None,\n",
       "    None,\n",
       "    None,\n",
       "    0.0]],\n",
       "  'collapse': None,\n",
       "  'order': None,\n",
       "  'database_id': 6129}}"
      ]
     },
     "execution_count": 15,
     "metadata": {},
     "output_type": "execute_result"
    }
   ],
   "source": [
    "# Inspect the JSON structure of the object you created, and take note of how nested it is,\n",
    "# as well as the overall structure\n",
    "\n",
    "data.json()"
   ]
  },
  {
   "cell_type": "markdown",
   "metadata": {},
   "source": [
    "These are your tasks for this mini project:\n",
    "\n",
    "1. Collect data from the Franfurt Stock Exchange, for the ticker AFX_X, for the whole year 2017 (keep in mind that the date format is YYYY-MM-DD).\n",
    "2. Convert the returned JSON object into a Python dictionary.\n",
    "3. Calculate what the highest and lowest opening prices were for the stock in this period.\n",
    "4. What was the largest change in any one day (based on High and Low price)?\n",
    "5. What was the largest change between any two days (based on Closing Price)?\n",
    "6. What was the average daily trading volume during this year?\n",
    "7. (Optional) What was the median trading volume during this year. (Note: you may need to implement your own function for calculating the median.)"
   ]
  },
  {
   "cell_type": "code",
   "execution_count": 16,
   "metadata": {},
   "outputs": [],
   "source": [
    "#Collect data from the Franfurt Stock Exchange, for the ticker AFX_X, for the whole year 2017\n",
    "\n",
    "#add Jan. 1st 2017 as the start date and Dec. 31 2017 as the end date to API call\n",
    "query = requests.get(f'https://www.quandl.com/api/v3/datasets/{DATABASE}/{DATASET}.{RETURN_TYPE}?start_date=2017-01-01&end_date=2017-12-31&api_key={API_KEY}')\n"
   ]
  },
  {
   "cell_type": "code",
   "execution_count": 17,
   "metadata": {},
   "outputs": [],
   "source": [
    "#Convert the returned JSON object into a Python dictionary.\n",
    "\n",
    "#Use the requests library built-in handling of JSON objects\n",
    "jdata = query.json()\n",
    "\n",
    "#Since there is only one key in the top level, \n",
    "#store the value as a variable to avoid repeating this statement\n",
    "jdataset = jdata['dataset']"
   ]
  },
  {
   "cell_type": "code",
   "execution_count": 18,
   "metadata": {},
   "outputs": [
    {
     "name": "stdout",
     "output_type": "stream",
     "text": [
      "Lowest opening price: 34.0\n",
      "Highest opening price: 53.11\n"
     ]
    }
   ],
   "source": [
    "#Calculate what the highest and lowest opening prices were for the stock in this period.\n",
    "\n",
    "#Store the number of dates with data\n",
    "num_entries = len(jdataset['data'])\n",
    "\n",
    "#record the column within each jdataset['data'] entry corresponding to Open\n",
    "open_column = jdataset['column_names'].index('Open')\n",
    "\n",
    "#generate list of opening prices for each date in data\n",
    "openings = [jdataset['data'][entry][open_column] for entry in range(0,num_entries)]\n",
    "\n",
    "#remove missing entries\n",
    "openings = [x for x in openings if x is not None]\n",
    "\n",
    "#store the minimum and maximum opening prices\n",
    "min_open = min(openings)\n",
    "max_open = max(openings)\n",
    "\n",
    "#print the results\n",
    "print(f'Lowest opening price: {min_open}')\n",
    "print(f'Highest opening price: {max_open}')"
   ]
  },
  {
   "cell_type": "code",
   "execution_count": 20,
   "metadata": {},
   "outputs": [
    {
     "name": "stdout",
     "output_type": "stream",
     "text": [
      "Largest change in one day: 2.81\n"
     ]
    }
   ],
   "source": [
    "#What was the largest change in any one day (based on High and Low price)?\n",
    "\n",
    "#record the columns within each jdataset['data'] entry corresponding to High and Low\n",
    "high_column = jdataset['column_names'].index('High')\n",
    "low_column = jdataset['column_names'].index('Low')\n",
    "\n",
    "#calculate the daily change in price by subtracting each day's high and low price\n",
    "daily_change = [jdataset['data'][entry][high_column] - jdataset['data'][entry][low_column]\n",
    "               for entry in range(0,num_entries)]\n",
    "\n",
    "#find the maximum daily change and print the result\n",
    "max_change = round(max(daily_change), 2)\n",
    "\n",
    "print(f'Largest change in one day: {max_change}')"
   ]
  },
  {
   "cell_type": "code",
   "execution_count": 21,
   "metadata": {},
   "outputs": [
    {
     "name": "stdout",
     "output_type": "stream",
     "text": [
      "Largest change between any two days: 19.03\n"
     ]
    }
   ],
   "source": [
    "#What was the largest change between any two days (based on Closing Price)?\n",
    "\n",
    "#record the columns within each jdataset['data'] entry corresponding to Close\n",
    "close_column = jdataset['column_names'].index('Close')\n",
    "\n",
    "#generate list of closing prices for each date in data\n",
    "closings = [jdataset['data'][entry][close_column] for entry in range(0,num_entries)]\n",
    "\n",
    "#calculate the maximum change between two days by subtracting the min value from the max value \n",
    "max_daychange = round(max(closings) - min(closings), 2)\n",
    "\n",
    "print(f'Largest change between any two days: {max_daychange}')"
   ]
  },
  {
   "cell_type": "code",
   "execution_count": 25,
   "metadata": {},
   "outputs": [
    {
     "name": "stdout",
     "output_type": "stream",
     "text": [
      "Average daily trading volume in 2017: 89124\n"
     ]
    }
   ],
   "source": [
    "#What was the average daily trading volume during this year?\n",
    "\n",
    "#record the columns within each jdataset['data'] entry corresponding to Traded Volume\n",
    "volume_column = jdataset['column_names'].index('Traded Volume')\n",
    "\n",
    "#generate list of traded volume for each date in data\n",
    "volume = [jdataset['data'][entry][volume_column] for entry in range(0,num_entries)]\n",
    "\n",
    "#calculate the mean volume and print the results\n",
    "mean_volume = int(sum(volume)/len(volume))\n",
    "print(f'Average daily trading volume in 2017: {mean_volume}')\n"
   ]
  },
  {
   "cell_type": "code",
   "execution_count": 28,
   "metadata": {},
   "outputs": [
    {
     "name": "stdout",
     "output_type": "stream",
     "text": [
      "Median trading volume in 2017: 76286\n"
     ]
    }
   ],
   "source": [
    "#(Optional) What was the median trading volume during this year?\n",
    "\n",
    "#write function that inputs a list\n",
    "def calcMedian(list):\n",
    "    \n",
    "    #sort the list before finding median\n",
    "    sort_list = sorted(list)\n",
    "    \n",
    "    #test if the list is odd in length\n",
    "    if len(sort_list) % 2 > 0:\n",
    "        \n",
    "        #if so, find the middle index with floor division\n",
    "        middle = len(sort_list)//2\n",
    "        median = sort_list[middle]\n",
    "    \n",
    "    #if the list is even in length, take the average of the two middle numbers\n",
    "    else:\n",
    "        middle = int(len(sort_list)/2) - 1\n",
    "        median = sum(sort_list[middle:(middle+2)]) / 2\n",
    "    \n",
    "    #return the result\n",
    "    return(median)\n",
    "\n",
    "#calculate the median of the daily traded volume and print the results\n",
    "median_volume = int(calcMedian(volume))\n",
    "print(f'Median trading volume in 2017: {median_volume}')"
   ]
  },
  {
   "cell_type": "code",
   "execution_count": null,
   "metadata": {},
   "outputs": [],
   "source": []
  }
 ],
 "metadata": {
  "kernelspec": {
   "display_name": "Python 3",
   "language": "python",
   "name": "python3"
  },
  "language_info": {
   "codemirror_mode": {
    "name": "ipython",
    "version": 3
   },
   "file_extension": ".py",
   "mimetype": "text/x-python",
   "name": "python",
   "nbconvert_exporter": "python",
   "pygments_lexer": "ipython3",
   "version": "3.9.2"
  }
 },
 "nbformat": 4,
 "nbformat_minor": 2
}
